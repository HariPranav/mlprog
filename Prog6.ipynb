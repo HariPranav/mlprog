{
  "nbformat": 4,
  "nbformat_minor": 0,
  "metadata": {
    "colab": {
      "name": "Prog6.ipynb",
      "provenance": [],
      "mount_file_id": "1wczhxnUOSPPaw-NijO5M6YNt48ufFoaO",
      "authorship_tag": "ABX9TyOcf9akY3e9eSVoo/HrGeYI",
      "include_colab_link": true
    },
    "kernelspec": {
      "name": "python3",
      "display_name": "Python 3"
    }
  },
  "cells": [
    {
      "cell_type": "markdown",
      "metadata": {
        "id": "view-in-github",
        "colab_type": "text"
      },
      "source": [
        "<a href=\"https://colab.research.google.com/github/HariPranav/mlprog/blob/main/Prog6.ipynb\" target=\"_parent\"><img src=\"https://colab.research.google.com/assets/colab-badge.svg\" alt=\"Open In Colab\"/></a>"
      ]
    },
    {
      "cell_type": "code",
      "metadata": {
        "id": "I1Kt0pBEwM1-"
      },
      "source": [
        "# prog 6 .(CTF(CountVectorizer,TrainTest,FeatureName)) Similar to 9 except we use x_train_dtm ,count vectorizer and get_feature_names for the column\r\n",
        "# apply algo\r\n",
        "#.fit(train_data) , predict based on test_Data, Cal accuracy(y_Test,pred)\r\n",
        "import pandas as pd\r\n",
        "import numpy as np\r\n",
        "from sklearn.model_selection import train_test_split\r\n",
        "from sklearn.feature_extraction.text import CountVectorizer\r\n",
        "from sklearn.naive_bayes import MultinomialNB\r\n",
        "from sklearn import metrics"
      ],
      "execution_count": 32,
      "outputs": []
    },
    {
      "cell_type": "code",
      "metadata": {
        "colab": {
          "base_uri": "https://localhost:8080/"
        },
        "id": "lBL_c8gcwquW",
        "outputId": "27bb1b6d-408d-4e2a-f7a9-e1b5e830f8ea"
      },
      "source": [
        "#read the data as  message and label . Since label names contains pos and negative map to 0 and 1\r\n",
        "msg=pd.read_csv(\"/content/drive/MyDrive/datasets/prog6.csv\",names=[\"message\",\"label\"])\r\n",
        "msg['labelnum']=msg.label.map({\"pos\":1,\"neg\":0})\r\n",
        "x=msg.message\r\n",
        "y=msg.labelnum\r\n",
        "print(x)\r\n",
        "print(y)"
      ],
      "execution_count": 10,
      "outputs": [
        {
          "output_type": "stream",
          "text": [
            "1                      I love this sandwich\n",
            "2                  This is an amazing place\n",
            "3        I feel very good about these beers\n",
            "4                      This is my best work\n",
            "5                      What an awesome view\n",
            "6             I do not like this restaurant\n",
            "7                  I am tired of this stuff\n",
            "8                    I can't deal with this\n",
            "9                      He is my sworn enemy\n",
            "10                      My boss is horrible\n",
            "11                 This is an awesome place\n",
            "12    I do not like the taste of this juice\n",
            "13                          I love to dance\n",
            "14        I am sick and tired of this place\n",
            "15                     What a great holiday\n",
            "16           That is a bad locality to stay\n",
            "17           We will have good fun tomorrow\n",
            "18         I went to my enemy's house today\n",
            "Name: message, dtype: object\n",
            "1     1\n",
            "2     1\n",
            "3     1\n",
            "4     1\n",
            "5     1\n",
            "6     0\n",
            "7     0\n",
            "8     0\n",
            "9     0\n",
            "10    0\n",
            "11    1\n",
            "12    0\n",
            "13    1\n",
            "14    0\n",
            "15    1\n",
            "16    0\n",
            "17    1\n",
            "18    0\n",
            "Name: labelnum, dtype: int64\n"
          ],
          "name": "stdout"
        }
      ]
    },
    {
      "cell_type": "code",
      "metadata": {
        "id": "dn9kjnSQw-wG"
      },
      "source": [
        "# use the split\r\n",
        "\r\n",
        "x_train,x_test,y_train,y_test=train_test_split(x,y)"
      ],
      "execution_count": 21,
      "outputs": []
    },
    {
      "cell_type": "code",
      "metadata": {
        "id": "WYJ_fRGax9xR"
      },
      "source": [
        "#get the COUNT VEVTORIZER\r\n",
        "countvector=CountVectorizer()"
      ],
      "execution_count": 22,
      "outputs": []
    },
    {
      "cell_type": "code",
      "metadata": {
        "id": "HN9ARfvqy0lB"
      },
      "source": [
        "#get the x_train_dtm and x_test_dtm using fit_transform and transform\r\n",
        "x_train_dtm=countvector.fit_transform(x_train)\r\n",
        "x_test_dtm=countvector.transform(x_test)"
      ],
      "execution_count": 23,
      "outputs": []
    },
    {
      "cell_type": "code",
      "metadata": {
        "id": "YM2h_W1mzFaB"
      },
      "source": [
        "#convert to array in the dataframe and get the feature names\r\n",
        "\r\n",
        "df=pd.DataFrame(x_train_dtm.toarray(),columns=countvector.get_feature_names())"
      ],
      "execution_count": 27,
      "outputs": []
    },
    {
      "cell_type": "code",
      "metadata": {
        "colab": {
          "base_uri": "https://localhost:8080/"
        },
        "id": "zWi26iAqzsHb",
        "outputId": "0f6ccfb0-ebf0-476a-fd5c-4f820a696c17"
      },
      "source": [
        "#fit the model with the algorithm\r\n",
        "\r\n",
        "\r\n",
        "algo=MultinomialNB().fit(x_train_dtm,y_train)\r\n",
        "pred=algo.predict(x_test_dtm)\r\n",
        "\r\n",
        "print(\"The accuracy is\",metrics.accuracy_score(y_test,pred))\r\n",
        "print(\"the confusion matrix is \",metrics.confusion_matrix(y_test,pred))\r\n",
        "print(\"the recall is\",metrics.recall_score(y_test,pred))\r\n",
        "print(\"the precision is\",metrics.precision_score(y_test,pred))\r\n",
        "\r\n"
      ],
      "execution_count": 34,
      "outputs": [
        {
          "output_type": "stream",
          "text": [
            "The accuracy is 0.8\n",
            "the confusion matrix is  [[2 0]\n",
            " [1 2]]\n",
            "the recall is 0.6666666666666666\n",
            "the precision is 1.0\n"
          ],
          "name": "stdout"
        }
      ]
    },
    {
      "cell_type": "code",
      "metadata": {
        "id": "vKHfCxU19XMU"
      },
      "source": [
        ""
      ],
      "execution_count": null,
      "outputs": []
    }
  ]
}