{
  "nbformat": 4,
  "nbformat_minor": 0,
  "metadata": {
    "colab": {
      "name": "Prog2.ipynb",
      "provenance": [],
      "mount_file_id": "17Fgx14yr2Aw6IuUoKPYe7nCsGdbayP6Q",
      "authorship_tag": "ABX9TyMFpbF0e5Ej8PixisJQv9kk",
      "include_colab_link": true
    },
    "kernelspec": {
      "name": "python3",
      "display_name": "Python 3"
    }
  },
  "cells": [
    {
      "cell_type": "markdown",
      "metadata": {
        "id": "view-in-github",
        "colab_type": "text"
      },
      "source": [
        "<a href=\"https://colab.research.google.com/github/HariPranav/mlprog/blob/main/Prog2.ipynb\" target=\"_parent\"><img src=\"https://colab.research.google.com/assets/colab-badge.svg\" alt=\"Open In Colab\"/></a>"
      ]
    },
    {
      "cell_type": "code",
      "metadata": {
        "id": "AkcycpagXWLP"
      },
      "source": [
        "# candidate elimination\r\n",
        "# first prog its h[j] second its h[x]. Along with an enum\r\n",
        "import pandas as pd\r\n",
        "import numpy as np"
      ],
      "execution_count": 2,
      "outputs": []
    },
    {
      "cell_type": "code",
      "metadata": {
        "id": "G1FM5YVRXdpT",
        "colab": {
          "base_uri": "https://localhost:8080/",
          "height": 175
        },
        "outputId": "4cd28b2c-6cbe-4283-904f-3a67e32ece80"
      },
      "source": [
        "data=pd.read_csv(\"/content/drive/MyDrive/datasets/Prog1 and 2_enjoysport.csv\")\r\n",
        "data"
      ],
      "execution_count": 3,
      "outputs": [
        {
          "output_type": "execute_result",
          "data": {
            "text/html": [
              "<div>\n",
              "<style scoped>\n",
              "    .dataframe tbody tr th:only-of-type {\n",
              "        vertical-align: middle;\n",
              "    }\n",
              "\n",
              "    .dataframe tbody tr th {\n",
              "        vertical-align: top;\n",
              "    }\n",
              "\n",
              "    .dataframe thead th {\n",
              "        text-align: right;\n",
              "    }\n",
              "</style>\n",
              "<table border=\"1\" class=\"dataframe\">\n",
              "  <thead>\n",
              "    <tr style=\"text-align: right;\">\n",
              "      <th></th>\n",
              "      <th>sky</th>\n",
              "      <th>airtemp</th>\n",
              "      <th>humidity</th>\n",
              "      <th>wind</th>\n",
              "      <th>water</th>\n",
              "      <th>forcast</th>\n",
              "      <th>enjoysport</th>\n",
              "    </tr>\n",
              "  </thead>\n",
              "  <tbody>\n",
              "    <tr>\n",
              "      <th>0</th>\n",
              "      <td>sunny</td>\n",
              "      <td>warm</td>\n",
              "      <td>normal</td>\n",
              "      <td>strong</td>\n",
              "      <td>warm</td>\n",
              "      <td>same</td>\n",
              "      <td>yes</td>\n",
              "    </tr>\n",
              "    <tr>\n",
              "      <th>1</th>\n",
              "      <td>sunny</td>\n",
              "      <td>warm</td>\n",
              "      <td>high</td>\n",
              "      <td>strong</td>\n",
              "      <td>warm</td>\n",
              "      <td>same</td>\n",
              "      <td>yes</td>\n",
              "    </tr>\n",
              "    <tr>\n",
              "      <th>2</th>\n",
              "      <td>rainy</td>\n",
              "      <td>cold</td>\n",
              "      <td>high</td>\n",
              "      <td>strong</td>\n",
              "      <td>warm</td>\n",
              "      <td>change</td>\n",
              "      <td>no</td>\n",
              "    </tr>\n",
              "    <tr>\n",
              "      <th>3</th>\n",
              "      <td>sunny</td>\n",
              "      <td>warm</td>\n",
              "      <td>high</td>\n",
              "      <td>strong</td>\n",
              "      <td>cool</td>\n",
              "      <td>change</td>\n",
              "      <td>yes</td>\n",
              "    </tr>\n",
              "  </tbody>\n",
              "</table>\n",
              "</div>"
            ],
            "text/plain": [
              "     sky airtemp humidity    wind water forcast enjoysport\n",
              "0  sunny    warm   normal  strong  warm    same        yes\n",
              "1  sunny    warm     high  strong  warm    same        yes\n",
              "2  rainy    cold     high  strong  warm  change         no\n",
              "3  sunny    warm     high  strong  cool  change        yes"
            ]
          },
          "metadata": {
            "tags": []
          },
          "execution_count": 3
        }
      ]
    },
    {
      "cell_type": "code",
      "metadata": {
        "colab": {
          "base_uri": "https://localhost:8080/"
        },
        "id": "Fd3yhrDfXyDx",
        "outputId": "9cfaf936-bbb3-4732-8798-d73e3d437043"
      },
      "source": [
        "# we need concepts , target , specific and general hypothesis\r\n",
        "\r\n",
        "concepts=np.array(data.iloc[:,0:-1])\r\n",
        "concepts"
      ],
      "execution_count": 4,
      "outputs": [
        {
          "output_type": "execute_result",
          "data": {
            "text/plain": [
              "array([['sunny', 'warm', 'normal', 'strong', 'warm', 'same'],\n",
              "       ['sunny', 'warm', 'high', 'strong', 'warm', 'same'],\n",
              "       ['rainy', 'cold', 'high', 'strong', 'warm', 'change'],\n",
              "       ['sunny', 'warm', 'high', 'strong', 'cool', 'change']],\n",
              "      dtype=object)"
            ]
          },
          "metadata": {
            "tags": []
          },
          "execution_count": 4
        }
      ]
    },
    {
      "cell_type": "code",
      "metadata": {
        "colab": {
          "base_uri": "https://localhost:8080/"
        },
        "id": "rsRJWHtGX96y",
        "outputId": "4fcaba89-5694-4ffe-b678-0b97610ab726"
      },
      "source": [
        "target=np.array(data.iloc[:,-1])\r\n",
        "target"
      ],
      "execution_count": 6,
      "outputs": [
        {
          "output_type": "execute_result",
          "data": {
            "text/plain": [
              "array(['yes', 'yes', 'no', 'yes'], dtype=object)"
            ]
          },
          "metadata": {
            "tags": []
          },
          "execution_count": 6
        }
      ]
    },
    {
      "cell_type": "code",
      "metadata": {
        "colab": {
          "base_uri": "https://localhost:8080/"
        },
        "id": "X9N17wo7YCdq",
        "outputId": "67cab7de-12d9-4e77-dc26-3b6c8eb2614c"
      },
      "source": [
        "def learn(concepts, target):\r\n",
        "  #passing all the arguments.\r\n",
        " specific_h = concepts[0].copy()\r\n",
        " #copying concepts of 0 , Specific is same as first row\r\n",
        " print(\"initialization of specific_h and general_h\")\r\n",
        " print(specific_h)\r\n",
        " # for each instance get 6 q marks\r\n",
        " general_h = [[\"?\" for i in range(len(specific_h))] for i in range(len(specific_h))]\r\n",
        " # here we intialize 6 diff q marks for each attribute , give 36 q marks\r\n",
        " print(general_h)\r\n",
        " for i, h in enumerate(concepts):\r\n",
        "  if target[i] == \"Yes\":\r\n",
        "    # if the target is positive make changes in specific hypothesis and not in general\r\n",
        "    for x in range(len(specific_h)):\r\n",
        "      if h[x] != specific_h[x]:\r\n",
        "        #if it is not equal then replace with a ? mark\r\n",
        "        specific_h[x] = '?'\r\n",
        "        general_h[x][x] = '?'\r\n",
        "  if target[i] == \"No\":\r\n",
        "    # if the hypo is negative then geereic = specific\r\n",
        "    for x in range(len(specific_h)):\r\n",
        "      if h[x] != specific_h[x]:\r\n",
        "        general_h[x][x] = specific_h[x]\r\n",
        "      else:\r\n",
        "        general_h[x][x] = '?'\r\n",
        "  print(\" steps of Candidate Elimination Algorithm\",i+1)\r\n",
        "  print(\"Initailized Specific Hypothesis \",i+1,\"\\n \")\r\n",
        "  print(specific_h)\r\n",
        "  print(\"Initialized General Hypothesis \", i+1, \"\\n \")\r\n",
        "  print(general_h)\r\n",
        "\r\n",
        " indices = [i for i, val in enumerate(general_h) if val == ['?', '?', '?', '?', '?', '?']]\r\n",
        " for i in indices:\r\n",
        "      general_h.remove(['?', '?', '?', '?', '?', '?'])\r\n",
        "\r\n",
        " return specific_h, general_h\r\n",
        "s_final, g_final = learn(concepts, target)\r\n",
        "print(\"Final Specific_h:\", s_final, sep=\"\\n\")\r\n",
        "print(\"Final General_h:\", g_final, sep=\"\\n\")"
      ],
      "execution_count": 17,
      "outputs": [
        {
          "output_type": "stream",
          "text": [
            "initialization of specific_h and general_h\n",
            "['sunny' 'warm' 'normal' 'strong' 'warm' 'same']\n",
            "[['?', '?', '?', '?', '?', '?'], ['?', '?', '?', '?', '?', '?'], ['?', '?', '?', '?', '?', '?'], ['?', '?', '?', '?', '?', '?'], ['?', '?', '?', '?', '?', '?'], ['?', '?', '?', '?', '?', '?']]\n",
            " steps of Candidate Elimination Algorithm 1\n",
            "Initailized Specific Hypothesis  1 \n",
            " \n",
            "['sunny' 'warm' 'normal' 'strong' 'warm' 'same']\n",
            "Initialized General Hypothesis  1 \n",
            " \n",
            "[['?', '?', '?', '?', '?', '?'], ['?', '?', '?', '?', '?', '?'], ['?', '?', '?', '?', '?', '?'], ['?', '?', '?', '?', '?', '?'], ['?', '?', '?', '?', '?', '?'], ['?', '?', '?', '?', '?', '?']]\n",
            " steps of Candidate Elimination Algorithm 2\n",
            "Initailized Specific Hypothesis  2 \n",
            " \n",
            "['sunny' 'warm' 'normal' 'strong' 'warm' 'same']\n",
            "Initialized General Hypothesis  2 \n",
            " \n",
            "[['?', '?', '?', '?', '?', '?'], ['?', '?', '?', '?', '?', '?'], ['?', '?', '?', '?', '?', '?'], ['?', '?', '?', '?', '?', '?'], ['?', '?', '?', '?', '?', '?'], ['?', '?', '?', '?', '?', '?']]\n",
            " steps of Candidate Elimination Algorithm 3\n",
            "Initailized Specific Hypothesis  3 \n",
            " \n",
            "['sunny' 'warm' 'normal' 'strong' 'warm' 'same']\n",
            "Initialized General Hypothesis  3 \n",
            " \n",
            "[['?', '?', '?', '?', '?', '?'], ['?', '?', '?', '?', '?', '?'], ['?', '?', '?', '?', '?', '?'], ['?', '?', '?', '?', '?', '?'], ['?', '?', '?', '?', '?', '?'], ['?', '?', '?', '?', '?', '?']]\n",
            " steps of Candidate Elimination Algorithm 4\n",
            "Initailized Specific Hypothesis  4 \n",
            " \n",
            "['sunny' 'warm' 'normal' 'strong' 'warm' 'same']\n",
            "Initialized General Hypothesis  4 \n",
            " \n",
            "[['?', '?', '?', '?', '?', '?'], ['?', '?', '?', '?', '?', '?'], ['?', '?', '?', '?', '?', '?'], ['?', '?', '?', '?', '?', '?'], ['?', '?', '?', '?', '?', '?'], ['?', '?', '?', '?', '?', '?']]\n",
            "Final Specific_h:\n",
            "['sunny' 'warm' 'normal' 'strong' 'warm' 'same']\n",
            "Final General_h:\n",
            "[]\n"
          ],
          "name": "stdout"
        }
      ]
    },
    {
      "cell_type": "code",
      "metadata": {
        "id": "hNu5TDYdYWkA"
      },
      "source": [
        ""
      ],
      "execution_count": null,
      "outputs": []
    }
  ]
}