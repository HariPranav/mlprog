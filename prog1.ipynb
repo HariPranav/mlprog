{
  "nbformat": 4,
  "nbformat_minor": 0,
  "metadata": {
    "colab": {
      "name": "prog1.ipynb",
      "provenance": [],
      "mount_file_id": "1u2pFm-WQ6L282amtcQK6uucTUup_gGy5",
      "authorship_tag": "ABX9TyOUaTPFb3eT5G7JdQBpL+XJ",
      "include_colab_link": true
    },
    "kernelspec": {
      "name": "python3",
      "display_name": "Python 3"
    }
  },
  "cells": [
    {
      "cell_type": "markdown",
      "metadata": {
        "id": "view-in-github",
        "colab_type": "text"
      },
      "source": [
        "<a href=\"https://colab.research.google.com/github/HariPranav/mlprog/blob/main/prog1.ipynb\" target=\"_parent\"><img src=\"https://colab.research.google.com/assets/colab-badge.svg\" alt=\"Open In Colab\"/></a>"
      ]
    },
    {
      "cell_type": "code",
      "metadata": {
        "id": "WOLOmrAHUQO2"
      },
      "source": [
        "import pandas as pd\r\n",
        "import numpy as np\r\n"
      ],
      "execution_count": null,
      "outputs": []
    },
    {
      "cell_type": "code",
      "metadata": {
        "colab": {
          "base_uri": "https://localhost:8080/",
          "height": 175
        },
        "id": "DASEcfsJUVDJ",
        "outputId": "2f5ec008-bd70-4638-bee5-84abf5e3dd48"
      },
      "source": [
        "data=pd.read_csv(\"/content/drive/MyDrive/datasets/Prog1 and 2_enjoysport.csv\")\r\n",
        "\r\n",
        "data\r\n"
      ],
      "execution_count": null,
      "outputs": [
        {
          "output_type": "execute_result",
          "data": {
            "text/html": [
              "<div>\n",
              "<style scoped>\n",
              "    .dataframe tbody tr th:only-of-type {\n",
              "        vertical-align: middle;\n",
              "    }\n",
              "\n",
              "    .dataframe tbody tr th {\n",
              "        vertical-align: top;\n",
              "    }\n",
              "\n",
              "    .dataframe thead th {\n",
              "        text-align: right;\n",
              "    }\n",
              "</style>\n",
              "<table border=\"1\" class=\"dataframe\">\n",
              "  <thead>\n",
              "    <tr style=\"text-align: right;\">\n",
              "      <th></th>\n",
              "      <th>sky</th>\n",
              "      <th>airtemp</th>\n",
              "      <th>humidity</th>\n",
              "      <th>wind</th>\n",
              "      <th>water</th>\n",
              "      <th>forcast</th>\n",
              "      <th>enjoysport</th>\n",
              "    </tr>\n",
              "  </thead>\n",
              "  <tbody>\n",
              "    <tr>\n",
              "      <th>0</th>\n",
              "      <td>sunny</td>\n",
              "      <td>warm</td>\n",
              "      <td>normal</td>\n",
              "      <td>strong</td>\n",
              "      <td>warm</td>\n",
              "      <td>same</td>\n",
              "      <td>yes</td>\n",
              "    </tr>\n",
              "    <tr>\n",
              "      <th>1</th>\n",
              "      <td>sunny</td>\n",
              "      <td>warm</td>\n",
              "      <td>high</td>\n",
              "      <td>strong</td>\n",
              "      <td>warm</td>\n",
              "      <td>same</td>\n",
              "      <td>yes</td>\n",
              "    </tr>\n",
              "    <tr>\n",
              "      <th>2</th>\n",
              "      <td>rainy</td>\n",
              "      <td>cold</td>\n",
              "      <td>high</td>\n",
              "      <td>strong</td>\n",
              "      <td>warm</td>\n",
              "      <td>change</td>\n",
              "      <td>no</td>\n",
              "    </tr>\n",
              "    <tr>\n",
              "      <th>3</th>\n",
              "      <td>sunny</td>\n",
              "      <td>warm</td>\n",
              "      <td>high</td>\n",
              "      <td>strong</td>\n",
              "      <td>cool</td>\n",
              "      <td>change</td>\n",
              "      <td>yes</td>\n",
              "    </tr>\n",
              "  </tbody>\n",
              "</table>\n",
              "</div>"
            ],
            "text/plain": [
              "     sky airtemp humidity    wind water forcast enjoysport\n",
              "0  sunny    warm   normal  strong  warm    same        yes\n",
              "1  sunny    warm     high  strong  warm    same        yes\n",
              "2  rainy    cold     high  strong  warm  change         no\n",
              "3  sunny    warm     high  strong  cool  change        yes"
            ]
          },
          "metadata": {
            "tags": []
          },
          "execution_count": 3
        }
      ]
    },
    {
      "cell_type": "code",
      "metadata": {
        "colab": {
          "base_uri": "https://localhost:8080/"
        },
        "id": "FBLWNpV4UlZ-",
        "outputId": "7cc9abc7-5633-42cc-ff4c-f8b69076f4a4"
      },
      "source": [
        "# get the rows and the columns\r\n",
        "rows=data.shape[0]\r\n",
        "rows"
      ],
      "execution_count": null,
      "outputs": [
        {
          "output_type": "execute_result",
          "data": {
            "text/plain": [
              "4"
            ]
          },
          "metadata": {
            "tags": []
          },
          "execution_count": 6
        }
      ]
    },
    {
      "cell_type": "code",
      "metadata": {
        "colab": {
          "base_uri": "https://localhost:8080/"
        },
        "id": "IOaoLVCzUxfD",
        "outputId": "b14c0213-0d84-42ee-b7b7-8bb5269f62b6"
      },
      "source": [
        "colms=data.shape[1]\r\n",
        "colms"
      ],
      "execution_count": null,
      "outputs": [
        {
          "output_type": "execute_result",
          "data": {
            "text/plain": [
              "7"
            ]
          },
          "metadata": {
            "tags": []
          },
          "execution_count": 7
        }
      ]
    },
    {
      "cell_type": "code",
      "metadata": {
        "colab": {
          "base_uri": "https://localhost:8080/"
        },
        "id": "pyTFPLFmUzjI",
        "outputId": "e638f2e1-f019-4fb0-f1a5-48b99bc87f38"
      },
      "source": [
        "# get the positive adn the negative data so use a loop\r\n",
        "h=['0','0','0','0','0','0']\r\n",
        "positive=[]\r\n",
        "negative=[]\r\n",
        "\r\n",
        "for i in range(rows):\r\n",
        "  s=[]\r\n",
        "  s.append(data.sky[i])\r\n",
        "  s.append(data.airtemp[i])\r\n",
        "  s.append(data.humidity[i])\r\n",
        "  s.append(data.wind[i])\r\n",
        "  s.append(data.water[i])\r\n",
        "  s.append(data.forcast[i])\r\n",
        "  if data.enjoysport[i]==\"yes\":\r\n",
        "    positive.append(s)\r\n",
        "  else:\r\n",
        "    negative.append(s)\r\n",
        "print(positive)\r\n",
        "print(negative)"
      ],
      "execution_count": null,
      "outputs": [
        {
          "output_type": "stream",
          "text": [
            "[['sunny', 'warm', 'normal', 'strong', 'warm', 'same'], ['sunny', 'warm', 'high', 'strong', 'warm', 'same'], ['sunny', 'warm', 'high', 'strong', 'cool', 'change']]\n",
            "[['rainy', 'cold', 'high', 'strong', 'warm', 'change']]\n"
          ],
          "name": "stdout"
        }
      ]
    },
    {
      "cell_type": "code",
      "metadata": {
        "colab": {
          "base_uri": "https://localhost:8080/"
        },
        "id": "AdCheZeVVjRA",
        "outputId": "1e292f7a-fa33-4df4-9b8b-77dd8d9fcf43"
      },
      "source": [
        "# check for h[j]\r\n",
        "\r\n",
        "for i in range(len(positive)):\r\n",
        "  for j in range(colms-1):\r\n",
        "    if (h[j]==\"0\"):\r\n",
        "     h[j]=positive[i][j]\r\n",
        "\r\n",
        "    elif(h[j]!=positive[i][j]):\r\n",
        "      h[j]='?'\r\n",
        "    else:\r\n",
        "      h[j]=positive[i][j];\r\n",
        "\r\n",
        "print(h)\r\n"
      ],
      "execution_count": null,
      "outputs": [
        {
          "output_type": "stream",
          "text": [
            "['sunny', 'warm', '?', 'strong', '?', '?']\n"
          ],
          "name": "stdout"
        }
      ]
    },
    {
      "cell_type": "code",
      "metadata": {
        "id": "0OV8m6W5WlwH"
      },
      "source": [
        ""
      ],
      "execution_count": null,
      "outputs": []
    }
  ]
}