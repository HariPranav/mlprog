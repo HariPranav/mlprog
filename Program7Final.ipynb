{
  "nbformat": 4,
  "nbformat_minor": 0,
  "metadata": {
    "colab": {
      "name": "Program7Final.ipynb",
      "provenance": [],
      "mount_file_id": "1gXgKuQZgzm4sG02Se7P5SVnIG3XAZUrz",
      "authorship_tag": "ABX9TyPWM2AI8qW2Y9mdHbMa4qYM",
      "include_colab_link": true
    },
    "kernelspec": {
      "name": "python3",
      "display_name": "Python 3"
    }
  },
  "cells": [
    {
      "cell_type": "markdown",
      "metadata": {
        "id": "view-in-github",
        "colab_type": "text"
      },
      "source": [
        "<a href=\"https://colab.research.google.com/github/HariPranav/mlprog/blob/main/Program7Final.ipynb\" target=\"_parent\"><img src=\"https://colab.research.google.com/assets/colab-badge.svg\" alt=\"Open In Colab\"/></a>"
      ]
    },
    {
      "cell_type": "code",
      "metadata": {
        "id": "yodAqWzh6DSg"
      },
      "source": [
        "#prog 7 heart disease dataset . BMV . Bayesian model. Maximum Likelyhood Estimator. VariableEliminator. Query"
      ],
      "execution_count": null,
      "outputs": []
    },
    {
      "cell_type": "code",
      "metadata": {
        "colab": {
          "base_uri": "https://localhost:8080/"
        },
        "id": "aM6-XNkT6O_r",
        "outputId": "97f7cbfd-8161-4e0e-aa78-de86da31f9bf"
      },
      "source": [
        "import pandas as pd\r\n",
        "import numpy as np\r\n",
        "! pip install pgmpy"
      ],
      "execution_count": null,
      "outputs": [
        {
          "output_type": "stream",
          "text": [
            "Collecting pgmpy\n",
            "\u001b[?25l  Downloading https://files.pythonhosted.org/packages/06/19/d508949e8ac7b32e639f15e854a5f5ed710a4118e4f6692bddaccc390d88/pgmpy-0.1.13-py3-none-any.whl (324kB)\n",
            "\r\u001b[K     |█                               | 10kB 16.8MB/s eta 0:00:01\r\u001b[K     |██                              | 20kB 22.1MB/s eta 0:00:01\r\u001b[K     |███                             | 30kB 11.7MB/s eta 0:00:01\r\u001b[K     |████                            | 40kB 9.8MB/s eta 0:00:01\r\u001b[K     |█████                           | 51kB 7.4MB/s eta 0:00:01\r\u001b[K     |██████                          | 61kB 7.4MB/s eta 0:00:01\r\u001b[K     |███████                         | 71kB 7.8MB/s eta 0:00:01\r\u001b[K     |████████                        | 81kB 8.0MB/s eta 0:00:01\r\u001b[K     |█████████                       | 92kB 8.0MB/s eta 0:00:01\r\u001b[K     |██████████                      | 102kB 7.0MB/s eta 0:00:01\r\u001b[K     |███████████                     | 112kB 7.0MB/s eta 0:00:01\r\u001b[K     |████████████▏                   | 122kB 7.0MB/s eta 0:00:01\r\u001b[K     |█████████████▏                  | 133kB 7.0MB/s eta 0:00:01\r\u001b[K     |██████████████▏                 | 143kB 7.0MB/s eta 0:00:01\r\u001b[K     |███████████████▏                | 153kB 7.0MB/s eta 0:00:01\r\u001b[K     |████████████████▏               | 163kB 7.0MB/s eta 0:00:01\r\u001b[K     |█████████████████▏              | 174kB 7.0MB/s eta 0:00:01\r\u001b[K     |██████████████████▏             | 184kB 7.0MB/s eta 0:00:01\r\u001b[K     |███████████████████▏            | 194kB 7.0MB/s eta 0:00:01\r\u001b[K     |████████████████████▏           | 204kB 7.0MB/s eta 0:00:01\r\u001b[K     |█████████████████████▏          | 215kB 7.0MB/s eta 0:00:01\r\u001b[K     |██████████████████████▏         | 225kB 7.0MB/s eta 0:00:01\r\u001b[K     |███████████████████████▎        | 235kB 7.0MB/s eta 0:00:01\r\u001b[K     |████████████████████████▎       | 245kB 7.0MB/s eta 0:00:01\r\u001b[K     |█████████████████████████▎      | 256kB 7.0MB/s eta 0:00:01\r\u001b[K     |██████████████████████████▎     | 266kB 7.0MB/s eta 0:00:01\r\u001b[K     |███████████████████████████▎    | 276kB 7.0MB/s eta 0:00:01\r\u001b[K     |████████████████████████████▎   | 286kB 7.0MB/s eta 0:00:01\r\u001b[K     |█████████████████████████████▎  | 296kB 7.0MB/s eta 0:00:01\r\u001b[K     |██████████████████████████████▎ | 307kB 7.0MB/s eta 0:00:01\r\u001b[K     |███████████████████████████████▎| 317kB 7.0MB/s eta 0:00:01\r\u001b[K     |████████████████████████████████| 327kB 7.0MB/s \n",
            "\u001b[?25hRequirement already satisfied: pyparsing in /usr/local/lib/python3.6/dist-packages (from pgmpy) (2.4.7)\n",
            "Requirement already satisfied: scipy in /usr/local/lib/python3.6/dist-packages (from pgmpy) (1.4.1)\n",
            "Requirement already satisfied: torch in /usr/local/lib/python3.6/dist-packages (from pgmpy) (1.7.0+cu101)\n",
            "Requirement already satisfied: joblib in /usr/local/lib/python3.6/dist-packages (from pgmpy) (1.0.0)\n",
            "Requirement already satisfied: scikit-learn in /usr/local/lib/python3.6/dist-packages (from pgmpy) (0.22.2.post1)\n",
            "Requirement already satisfied: networkx in /usr/local/lib/python3.6/dist-packages (from pgmpy) (2.5)\n",
            "Requirement already satisfied: numpy in /usr/local/lib/python3.6/dist-packages (from pgmpy) (1.19.5)\n",
            "Requirement already satisfied: pandas in /usr/local/lib/python3.6/dist-packages (from pgmpy) (1.1.5)\n",
            "Requirement already satisfied: tqdm in /usr/local/lib/python3.6/dist-packages (from pgmpy) (4.41.1)\n",
            "Requirement already satisfied: statsmodels in /usr/local/lib/python3.6/dist-packages (from pgmpy) (0.10.2)\n",
            "Requirement already satisfied: typing-extensions in /usr/local/lib/python3.6/dist-packages (from torch->pgmpy) (3.7.4.3)\n",
            "Requirement already satisfied: future in /usr/local/lib/python3.6/dist-packages (from torch->pgmpy) (0.16.0)\n",
            "Requirement already satisfied: dataclasses in /usr/local/lib/python3.6/dist-packages (from torch->pgmpy) (0.8)\n",
            "Requirement already satisfied: decorator>=4.3.0 in /usr/local/lib/python3.6/dist-packages (from networkx->pgmpy) (4.4.2)\n",
            "Requirement already satisfied: pytz>=2017.2 in /usr/local/lib/python3.6/dist-packages (from pandas->pgmpy) (2018.9)\n",
            "Requirement already satisfied: python-dateutil>=2.7.3 in /usr/local/lib/python3.6/dist-packages (from pandas->pgmpy) (2.8.1)\n",
            "Requirement already satisfied: patsy>=0.4.0 in /usr/local/lib/python3.6/dist-packages (from statsmodels->pgmpy) (0.5.1)\n",
            "Requirement already satisfied: six>=1.5 in /usr/local/lib/python3.6/dist-packages (from python-dateutil>=2.7.3->pandas->pgmpy) (1.15.0)\n",
            "Installing collected packages: pgmpy\n",
            "Successfully installed pgmpy-0.1.13\n"
          ],
          "name": "stdout"
        }
      ]
    },
    {
      "cell_type": "code",
      "metadata": {
        "id": "ORz6COsH6WGH"
      },
      "source": [
        "from pgmpy.models import BayesianModel"
      ],
      "execution_count": null,
      "outputs": []
    },
    {
      "cell_type": "code",
      "metadata": {
        "id": "58JNidvK6cUu"
      },
      "source": [
        "from pgmpy.estimators import MaximumLikelihoodEstimator"
      ],
      "execution_count": null,
      "outputs": []
    },
    {
      "cell_type": "code",
      "metadata": {
        "id": "EG1auoCh6j5p"
      },
      "source": [
        "from pgmpy.inference import VariableElimination"
      ],
      "execution_count": null,
      "outputs": []
    },
    {
      "cell_type": "code",
      "metadata": {
        "id": "eC6uoqAp6taq"
      },
      "source": [
        "# read the dataset , instantiate the model file with the relationships, fit the model, remove the variables and query\r\n",
        "data =pd.read_csv(\"/content/drive/MyDrive/datasets/Prog7_heart disease.csv\")"
      ],
      "execution_count": null,
      "outputs": []
    },
    {
      "cell_type": "code",
      "metadata": {
        "colab": {
          "base_uri": "https://localhost:8080/"
        },
        "id": "SUfPEC6l70P6",
        "outputId": "f5bb8a16-6ed5-4fc4-8bf2-07b258888643"
      },
      "source": [
        "print(data)"
      ],
      "execution_count": null,
      "outputs": [
        {
          "output_type": "stream",
          "text": [
            "    age  Gender  Family  diet  Lifestyle  cholestrol  heartdisease\n",
            "0     0       0       1     1          3           0             1\n",
            "1     0       1       1     1          3           0             1\n",
            "2     1       0       0     0          2           1             1\n",
            "3     4       0       1     1          3           2             0\n",
            "4     3       1       1     0          0           2             0\n",
            "5     2       0       1     1          1           0             1\n",
            "6     4       0       1     0          2           0             1\n",
            "7     0       0       1     1          3           0             1\n",
            "8     3       1       1     0          0           2             0\n",
            "9     1       1       0     0          0           2             1\n",
            "10    4       1       0     1          2           0             1\n",
            "11    4       0       1     1          3           2             0\n",
            "12    2       1       0     0          0           0             0\n",
            "13    2       0       1     1          1           0             1\n",
            "14    3       1       1     0          0           1             0\n",
            "15    0       0       1     0          0           2             1\n",
            "16    1       1       0     1          2           1             1\n",
            "17    3       1       1     1          0           1             0\n",
            "18    4       0       1     1          3           2             0\n"
          ],
          "name": "stdout"
        }
      ]
    },
    {
      "cell_type": "code",
      "metadata": {
        "id": "LL7tDZ4P71k6"
      },
      "source": [
        "# create the model\r\n",
        "model=BayesianModel([('age','Gender'),('Family','diet'),('Lifestyle','cholestrol'),('heartdisease','Gender')])"
      ],
      "execution_count": null,
      "outputs": []
    },
    {
      "cell_type": "code",
      "metadata": {
        "id": "1gF-aaoD8QuG"
      },
      "source": [
        "#fit the data using max likelyhood generator\r\n",
        "model.fit(data,estimator=MaximumLikelihoodEstimator)\r\n"
      ],
      "execution_count": null,
      "outputs": []
    },
    {
      "cell_type": "code",
      "metadata": {
        "id": "DsVCblVv8il1"
      },
      "source": [
        "#infer the query using variable eliminator\r\n",
        "heart_disease_infer=VariableElimination(model)\r\n"
      ],
      "execution_count": null,
      "outputs": []
    },
    {
      "cell_type": "code",
      "metadata": {
        "colab": {
          "base_uri": "https://localhost:8080/"
        },
        "id": "eovH-OmG9Ch0",
        "outputId": "7fbbe675-5b06-439c-f754-04856ff13493"
      },
      "source": [
        "# print the data according to the given table \r\n",
        "print(\"for age SuperSenior:0 , Senior:1 , Adult:2 ,Teen:3 , Child:4\")"
      ],
      "execution_count": null,
      "outputs": [
        {
          "output_type": "stream",
          "text": [
            "for age SuperSenior:0 , Senior:1 , Adult:2 ,Teen:3 , Child:4\n"
          ],
          "name": "stdout"
        }
      ]
    },
    {
      "cell_type": "code",
      "metadata": {
        "colab": {
          "base_uri": "https://localhost:8080/"
        },
        "id": "Y_h6Goan9aAb",
        "outputId": "28bcb4af-f2e6-4d32-9a8e-d7c0cfc91283"
      },
      "source": [
        "print(\"Gender Male:0, Female :1\")"
      ],
      "execution_count": null,
      "outputs": [
        {
          "output_type": "stream",
          "text": [
            "Gender Male:0, Female :1\n"
          ],
          "name": "stdout"
        }
      ]
    },
    {
      "cell_type": "code",
      "metadata": {
        "colab": {
          "base_uri": "https://localhost:8080/"
        },
        "id": "jBljyYub9fOE",
        "outputId": "a391a925-f406-41e1-b330-f4046c347be7"
      },
      "source": [
        "print(\"diet bad:0 ,good:1\")"
      ],
      "execution_count": null,
      "outputs": [
        {
          "output_type": "stream",
          "text": [
            "diet bad:0 ,good:1\n"
          ],
          "name": "stdout"
        }
      ]
    },
    {
      "cell_type": "code",
      "metadata": {
        "colab": {
          "base_uri": "https://localhost:8080/"
        },
        "id": "7RGYJTQ39lK_",
        "outputId": "9b7cc152-54e0-4a8a-b26d-d584d701df2d"
      },
      "source": [
        "print(\"lifestyle good:3 bad :2 worst :1 coolie:0\")"
      ],
      "execution_count": null,
      "outputs": [
        {
          "output_type": "stream",
          "text": [
            "lifestyle good:3 bad :2 worst :1 coolie:0\n"
          ],
          "name": "stdout"
        }
      ]
    },
    {
      "cell_type": "code",
      "metadata": {
        "colab": {
          "base_uri": "https://localhost:8080/"
        },
        "id": "feCAJVMD9viw",
        "outputId": "203048ff-935f-4a7f-e708-0437ef08cacb"
      },
      "source": [
        "print(\"cholestrol 0:high , 1:moderate , 2:under control\")"
      ],
      "execution_count": null,
      "outputs": [
        {
          "output_type": "stream",
          "text": [
            "cholestrol 0:high , 1:moderate , 2:under control\n"
          ],
          "name": "stdout"
        }
      ]
    },
    {
      "cell_type": "code",
      "metadata": {
        "colab": {
          "base_uri": "https://localhost:8080/"
        },
        "id": "42OGh9qU95lY",
        "outputId": "8c927ad0-33d8-428c-ebcb-cc0517e24c92"
      },
      "source": [
        "print(\"heartdisease highrisk:0 lowrisk:1\")"
      ],
      "execution_count": null,
      "outputs": [
        {
          "output_type": "stream",
          "text": [
            "heartdisease highrisk:0 lowrisk:1\n"
          ],
          "name": "stdout"
        }
      ]
    },
    {
      "cell_type": "code",
      "metadata": {
        "colab": {
          "base_uri": "https://localhost:8080/"
        },
        "id": "Ai5q4qh7-DNF",
        "outputId": "9964edba-b2fc-43b8-b4f4-d4e55f86e447"
      },
      "source": [
        "q=heart_disease_infer.query(\r\n",
        "variables=[\"heartdisease\"],evidence=\r\n",
        "{'age':int(input(\"enter the age\")),\r\n",
        "'Gender':int(input(\"Enter the gender\")),\r\n",
        "'Family':int(input(\"Enter the family history\")),\r\n",
        "'diet':int(input(\"Enter the diet\")),\r\n",
        "'Lifestyle':int(input(\"Enter the lifestyle\")),\r\n",
        "'cholestrol':int(input(\"Enter the cholestorl levels\")),\r\n",
        "})\r\n",
        "print(q)"
      ],
      "execution_count": null,
      "outputs": [
        {
          "output_type": "stream",
          "text": [
            "enter the age1\n",
            "Enter the gender1\n",
            "Enter the family history1\n",
            "Enter the diet1\n",
            "Enter the lifestyle1\n",
            "Enter the cholestorl levels1\n"
          ],
          "name": "stdout"
        },
        {
          "output_type": "stream",
          "text": [
            "Finding Elimination Order: : : 0it [00:00, ?it/s]\n",
            "0it [00:00, ?it/s]"
          ],
          "name": "stderr"
        },
        {
          "output_type": "stream",
          "text": [
            "+-----------------+---------------------+\n",
            "| heartdisease    |   phi(heartdisease) |\n",
            "+=================+=====================+\n",
            "| heartdisease(0) |              0.3529 |\n",
            "+-----------------+---------------------+\n",
            "| heartdisease(1) |              0.6471 |\n",
            "+-----------------+---------------------+\n"
          ],
          "name": "stdout"
        },
        {
          "output_type": "stream",
          "text": [
            "\n"
          ],
          "name": "stderr"
        }
      ]
    },
    {
      "cell_type": "code",
      "metadata": {
        "id": "2UObKZo__eZs"
      },
      "source": [
        "1"
      ],
      "execution_count": null,
      "outputs": []
    }
  ]
}